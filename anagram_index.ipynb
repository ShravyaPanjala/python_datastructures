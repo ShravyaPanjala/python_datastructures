{
 "cells": [
  {
   "cell_type": "code",
   "execution_count": 1,
   "metadata": {},
   "outputs": [
    {
     "name": "stdout",
     "output_type": "stream",
     "text": [
      "[[1, 4], [2, 3]]\n"
     ]
    }
   ],
   "source": [
    "from collections import defaultdict\n",
    "def anagram_check(l):\n",
    "    new_list=[]\n",
    "    for i in l:\n",
    "        sum=0\n",
    "        for j in i:\n",
    "            sum=sum+ord(j)\n",
    "        new_list.append((l.index(i)+1,sum))\n",
    "    d = defaultdict(list)\n",
    "    for k, v in new_list:\n",
    "        d[v].append(k)\n",
    "    index_list = list(map(lambda x: sorted(x[1]),d.items()))\n",
    "    return index_list\n",
    "list1=[\"cat\",\"dog\",\"god\",\"tca\"]\n",
    "anagram_index=anagram_check(list1) \n",
    "print anagram_index"
   ]
  },
  {
   "cell_type": "code",
   "execution_count": null,
   "metadata": {},
   "outputs": [],
   "source": []
  }
 ],
 "metadata": {
  "kernelspec": {
   "display_name": "Python 2",
   "language": "python",
   "name": "python2"
  },
  "language_info": {
   "codemirror_mode": {
    "name": "ipython",
    "version": 2
   },
   "file_extension": ".py",
   "mimetype": "text/x-python",
   "name": "python",
   "nbconvert_exporter": "python",
   "pygments_lexer": "ipython2",
   "version": "2.7.15"
  }
 },
 "nbformat": 4,
 "nbformat_minor": 2
}
