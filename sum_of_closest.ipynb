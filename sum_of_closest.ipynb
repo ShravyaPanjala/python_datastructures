{
 "cells": [
  {
   "cell_type": "code",
   "execution_count": 1,
   "metadata": {},
   "outputs": [
    {
     "name": "stdout",
     "output_type": "stream",
     "text": [
      "2\n"
     ]
    }
   ],
   "source": [
    "from itertools import permutations \n",
    "def sum_closest(l,t):\n",
    "    max=0\n",
    "    p=permutations(l,3)\n",
    "    new_list=list(p)\n",
    "    for i in new_list:\n",
    "        sum_of_tuple=sum(i)\n",
    "        sum_target=sum_of_tuple-t\n",
    "        if sum_target>max:\n",
    "           max=sum_target\n",
    "           sum_close=sum_of_tuple\n",
    "    return sum_close\n",
    "list1=[-1,2,1,-4]\n",
    "target=1\n",
    "closest_sum=sum_closest(list1,target)\n",
    "print closest_sum"
   ]
  },
  {
   "cell_type": "code",
   "execution_count": null,
   "metadata": {},
   "outputs": [],
   "source": []
  }
 ],
 "metadata": {
  "kernelspec": {
   "display_name": "Python 2",
   "language": "python",
   "name": "python2"
  },
  "language_info": {
   "codemirror_mode": {
    "name": "ipython",
    "version": 2
   },
   "file_extension": ".py",
   "mimetype": "text/x-python",
   "name": "python",
   "nbconvert_exporter": "python",
   "pygments_lexer": "ipython2",
   "version": "2.7.15"
  }
 },
 "nbformat": 4,
 "nbformat_minor": 2
}
